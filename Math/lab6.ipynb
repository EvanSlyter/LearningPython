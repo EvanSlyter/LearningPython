{
 "cells": [
  {
   "cell_type": "code",
   "execution_count": 12,
   "metadata": {},
   "outputs": [
    {
     "name": "stdout",
     "output_type": "stream",
     "text": [
      "[{r: -1}, {r: 1/2}]\n"
     ]
    }
   ],
   "source": [
    "from sympy import *\n",
    "\n",
    "r=symbols('r')\n",
    "x=symbols('x')\n",
    "\n",
    "f1=exp(r*x)\n",
    "f2=diff(f1,x)\n",
    "f3=diff(f2,x)\n",
    "\n",
    "print(solve((2*f3)+f2-f1))\n",
    "\n"
   ]
  },
  {
   "cell_type": "code",
   "execution_count": 14,
   "metadata": {},
   "outputs": [
    {
     "name": "stdout",
     "output_type": "stream",
     "text": [
      "[{r: -3 - I}, {r: -3 + I}]\n"
     ]
    }
   ],
   "source": [
    "from sympy import *\n",
    "\n",
    "r=symbols('r')\n",
    "x=symbols('x')\n",
    "\n",
    "f1=exp(r*x)\n",
    "f2=diff(f1,x)\n",
    "f3=diff(f2,x)\n",
    "\n",
    "print(solve(f3+(6*f2)+(10*f1)))\n",
    "\n"
   ]
  },
  {
   "cell_type": "code",
   "execution_count": 17,
   "metadata": {},
   "outputs": [
    {
     "name": "stdout",
     "output_type": "stream",
     "text": [
      "[]\n",
      "I conclude that there are no roots for the equation\n"
     ]
    }
   ],
   "source": [
    "from sympy import *\n",
    "x=symbols('x')\n",
    "\n",
    "f1=exp((-3)*x)*(cos(x)+sin(x))\n",
    "f2=diff(f1,x)\n",
    "f3=diff(f2,x)\n",
    "\n",
    "\n",
    "\n",
    "print(solve(f3+(6*f2)+(10*f1)))\n",
    "\n",
    "print(\"I conclude that there are no roots for the equation\")\n"
   ]
  }
 ],
 "metadata": {
  "kernelspec": {
   "display_name": "Python 3.10.6 64-bit",
   "language": "python",
   "name": "python3"
  },
  "language_info": {
   "codemirror_mode": {
    "name": "ipython",
    "version": 3
   },
   "file_extension": ".py",
   "mimetype": "text/x-python",
   "name": "python",
   "nbconvert_exporter": "python",
   "pygments_lexer": "ipython3",
   "version": "3.10.6"
  },
  "orig_nbformat": 4,
  "vscode": {
   "interpreter": {
    "hash": "fdaf97268099d329c3c755b473661a838bf928d9e7816aa1ef86d9f7df8adafa"
   }
  }
 },
 "nbformat": 4,
 "nbformat_minor": 2
}
