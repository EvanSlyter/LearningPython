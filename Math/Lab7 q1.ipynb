{
 "cells": [
  {
   "cell_type": "markdown",
   "id": "20c00fa5",
   "metadata": {},
   "source": [
    "## MATH 151 Lab 7"
   ]
  },
  {
   "cell_type": "code",
   "execution_count": null,
   "id": "eb65fde1",
   "metadata": {},
   "outputs": [],
   "source": []
  },
  {
   "cell_type": "markdown",
   "id": "7c243ef1",
   "metadata": {},
   "source": [
    "Put team members' names and section number here."
   ]
  },
  {
   "cell_type": "code",
   "execution_count": 3,
   "id": "cf836732",
   "metadata": {},
   "outputs": [],
   "source": [
    "from sympy import *\n",
    "from sympy.plotting import (plot,plot_parametric)"
   ]
  },
  {
   "cell_type": "markdown",
   "id": "3169990f",
   "metadata": {},
   "source": [
    "### Question 1"
   ]
  },
  {
   "cell_type": "markdown",
   "id": "f0561a86",
   "metadata": {},
   "source": [
    "#### 1a"
   ]
  },
  {
   "cell_type": "code",
   "execution_count": 4,
   "id": "0889599a",
   "metadata": {},
   "outputs": [
    {
     "name": "stdout",
     "output_type": "stream",
     "text": [
      "The critical values are [0, 2]\n"
     ]
    }
   ],
   "source": [
    "x=symbols('x')\n",
    "f1=8-(x**2)\n",
    "f2=5*(exp(-((x-2)/2)**2))\n",
    "f11=diff(f1,x)\n",
    "f22=diff(f2,x)\n",
    "\n",
    "critf1=solve(f11)\n",
    "critf2=solve(f22)\n",
    "\n",
    "\n",
    "xvalues_list=[]\n",
    "xvalues_list=xvalues_list + critf1\n",
    "xvalues_list=xvalues_list + critf2\n",
    "\n",
    "print(f'The critical values are {xvalues_list}')"
   ]
  },
  {
   "cell_type": "markdown",
   "id": "efdd616f",
   "metadata": {},
   "source": [
    "#### 1b"
   ]
  },
  {
   "cell_type": "code",
   "execution_count": 5,
   "id": "582449e5",
   "metadata": {},
   "outputs": [
    {
     "name": "stdout",
     "output_type": "stream",
     "text": [
      "The absolute maximum of f is 5, the absolute minimum of f is -17\n"
     ]
    }
   ],
   "source": [
    "lowerbound=-5\n",
    "upperbound=5\n",
    "\n",
    "for index in range(len(xvalues_list)):\n",
    "    if xvalues_list[index]<lowerbound or xvalues_list[index]>upperbound:\n",
    "        xvalues_list.pop(index)\n",
    "\n",
    "xvalues_list.append(lowerbound)\n",
    "xvalues_list.append(upperbound)\n",
    "\n",
    "\n",
    "if limit(f1,x,0)!=limit(f2,x,0):\n",
    "    xvalues_list.remove(0)\n",
    "\n",
    "yvalues_list=xvalues_list[:]\n",
    "\n",
    "\n",
    "for index in range(len(yvalues_list)):\n",
    "    if yvalues_list[index]<0:\n",
    "        yvalues_list[index]=f1.subs(x,yvalues_list[index])\n",
    "    elif yvalues_list[index]>=0:\n",
    "        yvalues_list[index]=f2.subs(x,yvalues_list[index])\n",
    "\n",
    "absmax=max(yvalues_list)\n",
    "absmin=min(yvalues_list)\n",
    "\n",
    "print(f'The absolute maximum of f is {absmax}, the absolute minimum of f is {absmin}')"
   ]
  },
  {
   "cell_type": "markdown",
   "id": "0721fb00",
   "metadata": {},
   "source": [
    "#### 1c"
   ]
  },
  {
   "cell_type": "code",
   "execution_count": 6,
   "id": "dd38ebc1",
   "metadata": {},
   "outputs": [
    {
     "name": "stdout",
     "output_type": "stream",
     "text": [
      "The absolute maximum of f is 5, the absolute minimum of f is -92\n"
     ]
    }
   ],
   "source": [
    "xvalues_list=[]\n",
    "xvalues_list=xvalues_list + critf1\n",
    "xvalues_list=xvalues_list + critf2\n",
    "\n",
    "lowerbound=-10\n",
    "upperbound=10\n",
    "\n",
    "for index in range(len(xvalues_list)):\n",
    "    if xvalues_list[index]<lowerbound or xvalues_list[index]>upperbound:\n",
    "        xvalues_list.pop(index)\n",
    "\n",
    "xvalues_list.append(lowerbound)\n",
    "xvalues_list.append(upperbound)\n",
    "\n",
    "\n",
    "if limit(f1,x,0)!=limit(f2,x,0):\n",
    "    xvalues_list.remove(0)\n",
    "\n",
    "yvalues_list=xvalues_list[:]\n",
    "\n",
    "for index in range(len(yvalues_list)):\n",
    "    if yvalues_list[index]<0:\n",
    "        yvalues_list[index]=f1.subs(x,yvalues_list[index])\n",
    "    elif yvalues_list[index]>=0:\n",
    "        yvalues_list[index]=f2.subs(x,yvalues_list[index])\n",
    "\n",
    "absmax=max(yvalues_list)\n",
    "absmin=min(yvalues_list)\n",
    "\n",
    "print(f'The absolute maximum of f is {absmax}, the absolute minimum of f is {absmin}')"
   ]
  },
  {
   "cell_type": "markdown",
   "id": "2f0eb3e3",
   "metadata": {},
   "source": [
    "#### 1d"
   ]
  },
  {
   "cell_type": "code",
   "execution_count": 7,
   "id": "ec6e60c6",
   "metadata": {},
   "outputs": [
    {
     "data": {
      "image/png": "[encoded data removed]",
      "text/plain": [
       "<Figure size 640x480 with 1 Axes>"
      ]
     },
     "metadata": {},
     "output_type": "display_data"
    },
    {
     "data": {
      "text/plain": [
       "<sympy.plotting.plot.Plot at 0x2c6c811eaa0>"
      ]
     },
     "execution_count": 7,
     "metadata": {},
     "output_type": "execute_result"
    }
   ],
   "source": [
    "plot((f1,(x,-10,0)),(f2,(x,0,10)),ylim=(-100,20))\n"
   ]
  },
  {
   "cell_type": "markdown",
   "id": "8b00f000",
   "metadata": {},
   "source": [
    "### Question 2"
   ]
  },
  {
   "cell_type": "markdown",
   "id": "bacdc1db",
   "metadata": {},
   "source": [
    "#### 2a"
   ]
  },
  {
   "cell_type": "code",
   "execution_count": null,
   "id": "be2f2c71",
   "metadata": {},
   "outputs": [],
   "source": []
  },
  {
   "cell_type": "markdown",
   "id": "23bc68a6",
   "metadata": {},
   "source": [
    "#### 2b"
   ]
  },
  {
   "cell_type": "code",
   "execution_count": null,
   "id": "357bbf0f",
   "metadata": {},
   "outputs": [],
   "source": []
  },
  {
   "cell_type": "markdown",
   "id": "94eb2168",
   "metadata": {},
   "source": [
    "#### 2c"
   ]
  },
  {
   "cell_type": "code",
   "execution_count": null,
   "id": "25fa3475",
   "metadata": {},
   "outputs": [],
   "source": []
  },
  {
   "cell_type": "markdown",
   "id": "7e489e8f",
   "metadata": {},
   "source": [
    "#### 2d"
   ]
  },
  {
   "cell_type": "code",
   "execution_count": null,
   "id": "fa3bed5b",
   "metadata": {},
   "outputs": [],
   "source": []
  },
  {
   "cell_type": "markdown",
   "id": "1fb8b9b8",
   "metadata": {},
   "source": [
    "### Question 3"
   ]
  },
  {
   "cell_type": "markdown",
   "id": "ccffd0d0",
   "metadata": {},
   "source": [
    "#### 3a"
   ]
  },
  {
   "cell_type": "code",
   "execution_count": null,
   "id": "9ebb9309",
   "metadata": {},
   "outputs": [],
   "source": []
  },
  {
   "cell_type": "markdown",
   "id": "baa2be1a",
   "metadata": {},
   "source": [
    "#### 3b"
   ]
  },
  {
   "cell_type": "code",
   "execution_count": null,
   "id": "ed50b7a1",
   "metadata": {},
   "outputs": [],
   "source": []
  },
  {
   "cell_type": "markdown",
   "id": "e7e04f9d",
   "metadata": {},
   "source": [
    "#### 3c"
   ]
  },
  {
   "cell_type": "code",
   "execution_count": null,
   "id": "d3cb4575",
   "metadata": {},
   "outputs": [],
   "source": []
  },
  {
   "cell_type": "markdown",
   "id": "f78847a1",
   "metadata": {},
   "source": [
    "#### 3d"
   ]
  },
  {
   "cell_type": "code",
   "execution_count": null,
   "id": "9fff1823",
   "metadata": {},
   "outputs": [],
   "source": []
  }
 ],
 "metadata": {
  "kernelspec": {
   "display_name": "Python 3.10.6 64-bit",
   "language": "python",
   "name": "python3"
  },
  "language_info": {
   "codemirror_mode": {
    "name": "ipython",
    "version": 3
   },
   "file_extension": ".py",
   "mimetype": "text/x-python",
   "name": "python",
   "nbconvert_exporter": "python",
   "pygments_lexer": "ipython3",
   "version": "3.10.6"
  },
  "vscode": {
   "interpreter": {
    "hash": "fdaf97268099d329c3c755b473661a838bf928d9e7816aa1ef86d9f7df8adafa"
   }
  }
 },
 "nbformat": 4,
 "nbformat_minor": 5
}
